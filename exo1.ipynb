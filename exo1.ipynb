{
 "cells": [
  {
   "cell_type": "code",
   "execution_count": 6,
   "metadata": {},
   "outputs": [
    {
     "data": {
      "image/png": "[encoded data removed]",
      "text/plain": [
       "<Figure size 432x288 with 4 Axes>"
      ]
     },
     "metadata": {
      "needs_background": "light"
     },
     "output_type": "display_data"
    }
   ],
   "source": [
    "from scipy.stats import  chi2 \n",
    "import matplotlib.pyplot as plt\n",
    "import numpy as np\n",
    "val=[10,100,1000,10000]\n",
    "listedix=[]\n",
    "listecnt=[]\n",
    "listemille=[]\n",
    "listedixmille=[]\n",
    "for i in range(len(val)):\n",
    "    x=0    \n",
    "    while x<5000:\n",
    "        n=val[i]\n",
    "        var=np.random.normal(0,10,n)\n",
    "        moy=var.sum()/n\n",
    "        if val[i]==10:\n",
    "            listedix.append(moy)\n",
    "        elif val[i]==100:\n",
    "            listecnt.append(moy)\n",
    "        elif val[i]==1000:\n",
    "            listemille.append(moy)\n",
    "        else:\n",
    "            listedixmille.append(moy)\n",
    "        x+=1\n",
    "\n",
    "plt.subplot(221)\n",
    "plt.hist(listedix,bins=40)\n",
    "plt.subplot(222)\n",
    "plt.hist(listecnt,bins=40)\n",
    "\n",
    "plt.subplot(223)\n",
    "plt.hist(listemille,bins=40)\n",
    "plt.subplot(224)\n",
    "plt.hist(listedixmille,bins=40)\n",
    "plt.show()\n"
   ]
  },
  {
   "cell_type": "code",
   "execution_count": null,
   "metadata": {},
   "outputs": [],
   "source": []
  },
  {
   "cell_type": "code",
   "execution_count": null,
   "metadata": {},
   "outputs": [],
   "source": []
  }
 ],
 "metadata": {
  "kernelspec": {
   "display_name": "Python 3",
   "language": "python",
   "name": "python3"
  },
  "language_info": {
   "codemirror_mode": {
    "name": "ipython",
    "version": 3
   },
   "file_extension": ".py",
   "mimetype": "text/x-python",
   "name": "python",
   "nbconvert_exporter": "python",
   "pygments_lexer": "ipython3",
   "version": "3.7.3"
  }
 },
 "nbformat": 4,
 "nbformat_minor": 2
}
